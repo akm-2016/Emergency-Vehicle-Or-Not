{
  "nbformat": 4,
  "nbformat_minor": 0,
  "metadata": {
    "colab": {
      "name": "EmergencyVehicle_CV.ipynb",
      "provenance": [],
      "collapsed_sections": [],
      "authorship_tag": "ABX9TyO0L6XCJ8eAL3H4gx8rzmmN",
      "include_colab_link": true
    },
    "kernelspec": {
      "name": "python3",
      "display_name": "Python 3"
    },
    "accelerator": "GPU"
  },
  "cells": [
    {
      "cell_type": "markdown",
      "metadata": {
        "id": "view-in-github",
        "colab_type": "text"
      },
      "source": [
        "<a href=\"https://colab.research.google.com/github/akm-2016/Emergency-Vehicle-Or-Not/blob/master/EmergencyVehicle_CV_VGG16.ipynb\" target=\"_parent\"><img src=\"https://colab.research.google.com/assets/colab-badge.svg\" alt=\"Open In Colab\"/></a>"
      ]
    },
    {
      "cell_type": "code",
      "metadata": {
        "id": "zeZlWjr1NXh-",
        "colab_type": "code",
        "colab": {}
      },
      "source": [
        "# importing libraries\n",
        "\n",
        "import io\n",
        "import pandas as pd\n",
        "import numpy as np\n",
        "\n",
        "from matplotlib import pyplot as plt\n",
        "%matplotlib inline\n",
        "\n",
        "from tqdm import tqdm"
      ],
      "execution_count": 0,
      "outputs": []
    },
    {
      "cell_type": "code",
      "metadata": {
        "id": "W5_hb9iqOZ34",
        "colab_type": "code",
        "colab": {}
      },
      "source": [
        "import keras\n",
        "from keras.models import Sequential\n",
        "from keras.layers import Dense, Dropout, Flatten, Conv2D, MaxPooling2D\n",
        "from keras.preprocessing import image\n",
        "from keras.preprocessing.image import ImageDataGenerator\n",
        "from keras import losses, optimizers, metrics"
      ],
      "execution_count": 0,
      "outputs": []
    },
    {
      "cell_type": "code",
      "metadata": {
        "id": "XzTEzS07O3PZ",
        "colab_type": "code",
        "colab": {}
      },
      "source": [
        "from sklearn.model_selection import train_test_split"
      ],
      "execution_count": 0,
      "outputs": []
    },
    {
      "cell_type": "code",
      "metadata": {
        "id": "5bl7tlWVbvPl",
        "colab_type": "code",
        "colab": {}
      },
      "source": [
        "!unzip train_SOaYf6m.zip"
      ],
      "execution_count": 0,
      "outputs": []
    },
    {
      "cell_type": "code",
      "metadata": {
        "id": "ddZbwlTbfji-",
        "colab_type": "code",
        "colab": {}
      },
      "source": [
        "train = pd.read_csv('train.csv')"
      ],
      "execution_count": 0,
      "outputs": []
    },
    {
      "cell_type": "code",
      "metadata": {
        "id": "bvqYuIoAcSjC",
        "colab_type": "code",
        "colab": {
          "base_uri": "https://localhost:8080/",
          "height": 34
        },
        "outputId": "c42d2e86-a6ee-49b4-c2d9-173355ffc034"
      },
      "source": [
        "train_image = []\n",
        "\n",
        "for i in tqdm(range(train.shape[0])):\n",
        "    img = image.load_img('images/'+train['image_names'][i], target_size=(224,224), grayscale=False)\n",
        "    img = image.img_to_array(img)\n",
        "    img = img/255\n",
        "    train_image.append(img)\n",
        "\n",
        "X = np.array(train_image)\n",
        "\n",
        "y=train['emergency_or_not'].values\n",
        "y = keras.utils.np_utils.to_categorical(y)"
      ],
      "execution_count": 36,
      "outputs": [
        {
          "output_type": "stream",
          "text": [
            "100%|██████████| 1646/1646 [00:02<00:00, 662.74it/s]\n"
          ],
          "name": "stderr"
        }
      ]
    },
    {
      "cell_type": "code",
      "metadata": {
        "id": "WThkAmGUg9cT",
        "colab_type": "code",
        "colab": {}
      },
      "source": [
        "X_train, X_test, y_train, y_test = train_test_split(X, y, random_state=42, test_size=0.2)"
      ],
      "execution_count": 0,
      "outputs": []
    },
    {
      "cell_type": "code",
      "metadata": {
        "id": "I3ZlRKpBp35h",
        "colab_type": "code",
        "colab": {
          "base_uri": "https://localhost:8080/",
          "height": 34
        },
        "outputId": "7196d878-b642-4a71-8737-61509afd64d3"
      },
      "source": [
        "print(X_train.shape, y_train.shape)"
      ],
      "execution_count": 38,
      "outputs": [
        {
          "output_type": "stream",
          "text": [
            "(1316, 224, 224, 3) (1316, 2)\n"
          ],
          "name": "stdout"
        }
      ]
    },
    {
      "cell_type": "code",
      "metadata": {
        "id": "D9JKq-iTPfMh",
        "colab_type": "code",
        "colab": {
          "base_uri": "https://localhost:8080/",
          "height": 790
        },
        "outputId": "7184233d-a3f6-4333-932b-05b44e688b71"
      },
      "source": [
        "from keras.applications import VGG16\n",
        "\n",
        "conv_base = VGG16(weights='imagenet',\n",
        "                 include_top=False,\n",
        "                 input_shape=(224, 224, 3))\n",
        "conv_base.summary()"
      ],
      "execution_count": 39,
      "outputs": [
        {
          "output_type": "stream",
          "text": [
            "Model: \"vgg16\"\n",
            "_________________________________________________________________\n",
            "Layer (type)                 Output Shape              Param #   \n",
            "=================================================================\n",
            "input_3 (InputLayer)         (None, 224, 224, 3)       0         \n",
            "_________________________________________________________________\n",
            "block1_conv1 (Conv2D)        (None, 224, 224, 64)      1792      \n",
            "_________________________________________________________________\n",
            "block1_conv2 (Conv2D)        (None, 224, 224, 64)      36928     \n",
            "_________________________________________________________________\n",
            "block1_pool (MaxPooling2D)   (None, 112, 112, 64)      0         \n",
            "_________________________________________________________________\n",
            "block2_conv1 (Conv2D)        (None, 112, 112, 128)     73856     \n",
            "_________________________________________________________________\n",
            "block2_conv2 (Conv2D)        (None, 112, 112, 128)     147584    \n",
            "_________________________________________________________________\n",
            "block2_pool (MaxPooling2D)   (None, 56, 56, 128)       0         \n",
            "_________________________________________________________________\n",
            "block3_conv1 (Conv2D)        (None, 56, 56, 256)       295168    \n",
            "_________________________________________________________________\n",
            "block3_conv2 (Conv2D)        (None, 56, 56, 256)       590080    \n",
            "_________________________________________________________________\n",
            "block3_conv3 (Conv2D)        (None, 56, 56, 256)       590080    \n",
            "_________________________________________________________________\n",
            "block3_pool (MaxPooling2D)   (None, 28, 28, 256)       0         \n",
            "_________________________________________________________________\n",
            "block4_conv1 (Conv2D)        (None, 28, 28, 512)       1180160   \n",
            "_________________________________________________________________\n",
            "block4_conv2 (Conv2D)        (None, 28, 28, 512)       2359808   \n",
            "_________________________________________________________________\n",
            "block4_conv3 (Conv2D)        (None, 28, 28, 512)       2359808   \n",
            "_________________________________________________________________\n",
            "block4_pool (MaxPooling2D)   (None, 14, 14, 512)       0         \n",
            "_________________________________________________________________\n",
            "block5_conv1 (Conv2D)        (None, 14, 14, 512)       2359808   \n",
            "_________________________________________________________________\n",
            "block5_conv2 (Conv2D)        (None, 14, 14, 512)       2359808   \n",
            "_________________________________________________________________\n",
            "block5_conv3 (Conv2D)        (None, 14, 14, 512)       2359808   \n",
            "_________________________________________________________________\n",
            "block5_pool (MaxPooling2D)   (None, 7, 7, 512)         0         \n",
            "=================================================================\n",
            "Total params: 14,714,688\n",
            "Trainable params: 14,714,688\n",
            "Non-trainable params: 0\n",
            "_________________________________________________________________\n"
          ],
          "name": "stdout"
        }
      ]
    },
    {
      "cell_type": "code",
      "metadata": {
        "id": "ZJWJNkJDPfPG",
        "colab_type": "code",
        "colab": {
          "base_uri": "https://localhost:8080/",
          "height": 286
        },
        "outputId": "ba9c8836-3283-470d-ff0e-893c65a9062f"
      },
      "source": [
        "model = Sequential()\n",
        "\n",
        "model.add(conv_base)\n",
        "model.add(Flatten())\n",
        "model.add(Dense(512, activation='relu'))\n",
        "model.add(Dense(2, activation='softmax'))\n",
        "model.summary()"
      ],
      "execution_count": 40,
      "outputs": [
        {
          "output_type": "stream",
          "text": [
            "Model: \"sequential_5\"\n",
            "_________________________________________________________________\n",
            "Layer (type)                 Output Shape              Param #   \n",
            "=================================================================\n",
            "vgg16 (Model)                (None, 7, 7, 512)         14714688  \n",
            "_________________________________________________________________\n",
            "flatten_4 (Flatten)          (None, 25088)             0         \n",
            "_________________________________________________________________\n",
            "dense_7 (Dense)              (None, 512)               12845568  \n",
            "_________________________________________________________________\n",
            "dense_8 (Dense)              (None, 2)                 1026      \n",
            "=================================================================\n",
            "Total params: 27,561,282\n",
            "Trainable params: 27,561,282\n",
            "Non-trainable params: 0\n",
            "_________________________________________________________________\n"
          ],
          "name": "stdout"
        }
      ]
    },
    {
      "cell_type": "code",
      "metadata": {
        "id": "cxI_cOZ4PfR6",
        "colab_type": "code",
        "colab": {
          "base_uri": "https://localhost:8080/",
          "height": 386
        },
        "outputId": "694a806b-4ac4-4b74-a7a3-22434fd6ec13"
      },
      "source": [
        "conv_base.trainable = False\n",
        "print('This is the number of trainable weights before freezing the conv base:', len(model.trainable_weights))\n",
        "\n",
        "model.compile(\n",
        "    optimizer=optimizers.Adam(lr=5e-5), \n",
        "    loss='binary_crossentropy', \n",
        "    metrics=['accuracy']\n",
        ")\n",
        "\n",
        "history = model.fit(X_train, y_train,\n",
        "                              # steps_per_epoch=300, \n",
        "                              epochs=10, batch_size=32,\n",
        "                              validation_data=(X_test, y_test),\n",
        "                              # validation_steps=12\n",
        "                    )"
      ],
      "execution_count": 47,
      "outputs": [
        {
          "output_type": "stream",
          "text": [
            "This is the number of trainable weights before freezing the conv base: 4\n",
            "Train on 1316 samples, validate on 330 samples\n",
            "Epoch 1/10\n",
            "1316/1316 [==============================] - 16s 12ms/step - loss: 0.2542 - accuracy: 0.9027 - val_loss: 0.2373 - val_accuracy: 0.9091\n",
            "Epoch 2/10\n",
            "1316/1316 [==============================] - 16s 12ms/step - loss: 0.1190 - accuracy: 0.9681 - val_loss: 0.2114 - val_accuracy: 0.9121\n",
            "Epoch 3/10\n",
            "1316/1316 [==============================] - 16s 12ms/step - loss: 0.0683 - accuracy: 0.9863 - val_loss: 0.2081 - val_accuracy: 0.9152\n",
            "Epoch 4/10\n",
            "1316/1316 [==============================] - 16s 12ms/step - loss: 0.0633 - accuracy: 0.9924 - val_loss: 0.2044 - val_accuracy: 0.9303\n",
            "Epoch 5/10\n",
            "1316/1316 [==============================] - 16s 12ms/step - loss: 0.0405 - accuracy: 0.9939 - val_loss: 0.2151 - val_accuracy: 0.9212\n",
            "Epoch 6/10\n",
            "1316/1316 [==============================] - 16s 12ms/step - loss: 0.0230 - accuracy: 0.9970 - val_loss: 0.2150 - val_accuracy: 0.9182\n",
            "Epoch 7/10\n",
            "1316/1316 [==============================] - 16s 12ms/step - loss: 0.0165 - accuracy: 0.9970 - val_loss: 0.2071 - val_accuracy: 0.9273\n",
            "Epoch 8/10\n",
            "1316/1316 [==============================] - 16s 12ms/step - loss: 0.0142 - accuracy: 0.9977 - val_loss: 0.2014 - val_accuracy: 0.9333\n",
            "Epoch 9/10\n",
            "1316/1316 [==============================] - 16s 12ms/step - loss: 0.0102 - accuracy: 0.9985 - val_loss: 0.2227 - val_accuracy: 0.9182\n",
            "Epoch 10/10\n",
            "1316/1316 [==============================] - 16s 12ms/step - loss: 0.0108 - accuracy: 0.9977 - val_loss: 0.2167 - val_accuracy: 0.9273\n"
          ],
          "name": "stdout"
        }
      ]
    },
    {
      "cell_type": "code",
      "metadata": {
        "id": "K3Zh6jVfPfXE",
        "colab_type": "code",
        "colab": {}
      },
      "source": [
        "conv_base.trainable = True\n",
        "set_trainable = False\n",
        "for layer in conv_base.layers:\n",
        "    if layer.name == 'block5_conv1':\n",
        "        set_trainable = True\n",
        "    if set_trainable:\n",
        "        layer.trainable = True\n",
        "    else:\n",
        "        layer.trainable = False"
      ],
      "execution_count": 0,
      "outputs": []
    },
    {
      "cell_type": "code",
      "metadata": {
        "id": "nG-JL63WPfZr",
        "colab_type": "code",
        "colab": {}
      },
      "source": [
        "from keras.models import load_model\n",
        "try:\n",
        "    model = load_model('checkpoints\\\\model.h5')\n",
        "except:\n",
        "    pass"
      ],
      "execution_count": 0,
      "outputs": []
    },
    {
      "cell_type": "code",
      "metadata": {
        "id": "dsZjQTK4Pfej",
        "colab_type": "code",
        "colab": {
          "base_uri": "https://localhost:8080/",
          "height": 423
        },
        "outputId": "acdcd51d-8044-47fb-c8b5-c8f8c8c92b1e"
      },
      "source": [
        "model.compile(\n",
        "    optimizer=optimizers.Adam(lr=1e-5), \n",
        "    loss=losses.categorical_crossentropy, \n",
        "    metrics=[metrics.categorical_accuracy]\n",
        ")\n",
        "\n",
        "history = model.fit(X_train, y_train,\n",
        "                              #steps_per_epoch=300, \n",
        "                              epochs=10, batch_size=32,\n",
        "                               callbacks=[\n",
        "                                  keras.callbacks.ModelCheckpoint('checkpoints\\\\model.h5', monitor='val_loss', verbose=0, save_best_only=True, save_weights_only=False, mode='auto', period=1),\n",
        "                                  keras.callbacks.TensorBoard(log_dir='logs\\\\inception', histogram_freq=0, batch_size=32, write_graph=True, write_grads=False, write_images=False, embeddings_freq=0, embeddings_layer_names=None, embeddings_metadata=None, embeddings_data=None),\n",
        "                              ],\n",
        "                              validation_data=(X_test, y_test), \n",
        "                              #validation_steps=12\n",
        "                    )"
      ],
      "execution_count": 51,
      "outputs": [
        {
          "output_type": "stream",
          "text": [
            "/usr/local/lib/python3.6/dist-packages/keras/callbacks/tensorboard_v2.py:92: UserWarning: The TensorBoard callback `batch_size` argument (for histogram computation) is deprecated with TensorFlow 2.0. It will be ignored.\n",
            "  warnings.warn('The TensorBoard callback `batch_size` argument '\n"
          ],
          "name": "stderr"
        },
        {
          "output_type": "stream",
          "text": [
            "Train on 1316 samples, validate on 330 samples\n",
            "Epoch 1/10\n",
            "1316/1316 [==============================] - 23s 17ms/step - loss: 0.0135 - categorical_accuracy: 0.9977 - val_loss: 0.2741 - val_categorical_accuracy: 0.9182\n",
            "Epoch 2/10\n",
            "1316/1316 [==============================] - 22s 17ms/step - loss: 0.0087 - categorical_accuracy: 0.9977 - val_loss: 0.2605 - val_categorical_accuracy: 0.9333\n",
            "Epoch 3/10\n",
            "1316/1316 [==============================] - 22s 17ms/step - loss: 0.0074 - categorical_accuracy: 0.9977 - val_loss: 0.2498 - val_categorical_accuracy: 0.9303\n",
            "Epoch 4/10\n",
            "1316/1316 [==============================] - 22s 17ms/step - loss: 0.0136 - categorical_accuracy: 0.9962 - val_loss: 0.2699 - val_categorical_accuracy: 0.9273\n",
            "Epoch 5/10\n",
            "1316/1316 [==============================] - 22s 17ms/step - loss: 0.0124 - categorical_accuracy: 0.9985 - val_loss: 0.2432 - val_categorical_accuracy: 0.9303\n",
            "Epoch 6/10\n",
            "1316/1316 [==============================] - 22s 17ms/step - loss: 0.0046 - categorical_accuracy: 0.9977 - val_loss: 0.2756 - val_categorical_accuracy: 0.9212\n",
            "Epoch 7/10\n",
            "1316/1316 [==============================] - 22s 17ms/step - loss: 0.0044 - categorical_accuracy: 0.9977 - val_loss: 0.2859 - val_categorical_accuracy: 0.9212\n",
            "Epoch 8/10\n",
            "1316/1316 [==============================] - 22s 17ms/step - loss: 0.0088 - categorical_accuracy: 0.9962 - val_loss: 0.2955 - val_categorical_accuracy: 0.9061\n",
            "Epoch 9/10\n",
            "1316/1316 [==============================] - 22s 17ms/step - loss: 0.0052 - categorical_accuracy: 0.9977 - val_loss: 0.3127 - val_categorical_accuracy: 0.9182\n",
            "Epoch 10/10\n",
            "1316/1316 [==============================] - 22s 17ms/step - loss: 0.0046 - categorical_accuracy: 0.9985 - val_loss: 0.2697 - val_categorical_accuracy: 0.9333\n"
          ],
          "name": "stdout"
        }
      ]
    },
    {
      "cell_type": "code",
      "metadata": {
        "id": "Le5vqDFsPfhK",
        "colab_type": "code",
        "colab": {}
      },
      "source": [
        "import matplotlib.pyplot as plt\n",
        "\n",
        "acc = history.history['categorical_accuracy']\n",
        "val_acc = history.history['val_categorical_accuracy']\n",
        "loss = history.history['loss']\n",
        "val_loss = history.history['val_loss']\n",
        "\n",
        "epochs = range(1, len(acc)+1)\n",
        "\n",
        "plt.plot(epochs, acc, 'bo', label='Training acc')\n",
        "plt.plot(epochs, val_acc, 'b', label='Validation acc')\n",
        "plt.title('Training and validation accuracy')\n",
        "plt.legend()\n",
        "\n",
        "plt.figure()\n",
        "plt.plot(epochs, loss, 'bo', label='Training losses')\n",
        "plt.plot(epochs, val_loss, 'b', label='Validation losses')\n",
        "plt.title('Training and validation loss')\n",
        "plt.legend()\n",
        "\n",
        "plt.show()"
      ],
      "execution_count": 0,
      "outputs": []
    },
    {
      "cell_type": "code",
      "metadata": {
        "id": "acpyMCqtwkIU",
        "colab_type": "code",
        "colab": {}
      },
      "source": [
        "test = pd.read_csv('test_EV.csv')"
      ],
      "execution_count": 0,
      "outputs": []
    },
    {
      "cell_type": "code",
      "metadata": {
        "id": "7nzs_RdlPfkg",
        "colab_type": "code",
        "colab": {
          "base_uri": "https://localhost:8080/",
          "height": 34
        },
        "outputId": "c5e2c35a-e049-4ac5-eccf-40d0c4d53e78"
      },
      "source": [
        "test_image = []\n",
        "\n",
        "for i in tqdm(range(test.shape[0])):\n",
        "    img = image.load_img('images/'+test['image_names'][i], target_size=(224,224), grayscale=False)\n",
        "    img = image.img_to_array(img)\n",
        "    img = img/255\n",
        "    test_image.append(img)\n",
        "\n",
        "test = np.array(test_image)"
      ],
      "execution_count": 56,
      "outputs": [
        {
          "output_type": "stream",
          "text": [
            "100%|██████████| 706/706 [00:01<00:00, 669.59it/s]\n"
          ],
          "name": "stderr"
        }
      ]
    },
    {
      "cell_type": "code",
      "metadata": {
        "id": "h2grrktxPfuO",
        "colab_type": "code",
        "colab": {}
      },
      "source": [
        "prediction = model.predict_classes(test)"
      ],
      "execution_count": 0,
      "outputs": []
    },
    {
      "cell_type": "code",
      "metadata": {
        "id": "-HT46QQ0xlBl",
        "colab_type": "code",
        "colab": {}
      },
      "source": [
        "# creating submission file\n",
        "sample = pd.read_csv('sample_submission_yxjOnvz.csv')\n",
        "sample['emergency_or_not'] = prediction\n",
        "sample.to_csv('sample_vgg16.csv', header=True, index=False)"
      ],
      "execution_count": 0,
      "outputs": []
    }
  ]
}